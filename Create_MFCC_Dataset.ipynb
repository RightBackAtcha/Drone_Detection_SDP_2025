{
 "cells": [
  {
   "cell_type": "code",
   "execution_count": 6,
   "id": "2db6ead3-0baa-4776-a4e9-0992c619d54e",
   "metadata": {},
   "outputs": [
    {
     "name": "stdout",
     "output_type": "stream",
     "text": [
      "Number of unique drones: 5\n",
      "MFCC features and labels saved in dataset/\n"
     ]
    },
    {
     "data": {
      "text/plain": [
       "(c:\\Users\\Jorda\\Desktop\\ECE 4830 Drone Detection SDP\\Code\\dataset\\mfcc_features.npy,\n",
       " c:\\Users\\Jorda\\Desktop\\ECE 4830 Drone Detection SDP\\Code\\dataset\\labels.npy)"
      ]
     },
     "execution_count": 6,
     "metadata": {},
     "output_type": "execute_result"
    }
   ],
   "source": [
    "import os\n",
    "import librosa\n",
    "import numpy as np\n",
    "from IPython.display import FileLink\n",
    "\n",
    "# Defining the main directory\n",
    "main_dir = \"C:/Users/Jorda/Desktop/ECE 4830 Drone Detection SDP/Dataset\"  # Path to your dataset\n",
    "\n",
    "# Lists to store file paths and labels\n",
    "audio_files = []  # List to store file paths of drone audio files\n",
    "labels = []  # List to store labels corresponding to audio files\n",
    "\n",
    "# Loop iterating through each subfolder (drone folders) in the main directory\n",
    "for root, dirs, files in os.walk(main_dir):\n",
    "    for file in files:\n",
    "        if file.endswith(\".wav\"):\n",
    "            audio_file_path = os.path.join(root, file)\n",
    "            audio_files.append(audio_file_path)\n",
    "            # Extract drone name based on folder structure\n",
    "            drone_name = os.path.basename(os.path.dirname(root))\n",
    "            labels.append(drone_name)\n",
    "\n",
    "# Number of unique drones\n",
    "num_drones = len(set(labels)) \n",
    "print(f\"Number of unique drones: {num_drones}\")\n",
    "\n",
    "# List to store MFCC features\n",
    "mfcc_features = []\n",
    "\n",
    "# Function to extract MFCC features and perform labeling\n",
    "def extract_mfcc(audio_file, label):\n",
    "    y, sr = librosa.load(audio_file, sr=16000)  # Downsample to 16 kHz\n",
    "    mfccs = librosa.feature.mfcc(y=y, sr=sr, n_mfcc=13)\n",
    "    mfccs_mean = np.mean(mfccs, axis=1)  # Take the mean across time frames\n",
    "    return mfccs_mean, label\n",
    "\n",
    "# Extract MFCC features for each audio file\n",
    "for audio_file, label in zip(audio_files, labels):\n",
    "    mfccs_mean, drone_name = extract_mfcc(audio_file, label)\n",
    "    mfcc_features.append((mfccs_mean, drone_name))\n",
    "\n",
    "# Save the MFCC features and labels as .npy files\n",
    "save_dir = 'dataset/'  # Directory to save the .npy files\n",
    "os.makedirs(save_dir, exist_ok=True)\n",
    "\n",
    "mfcc_features_array = np.array([mfcc[0] for mfcc in mfcc_features])  # Extract just the MFCCs\n",
    "np.save(os.path.join(save_dir, 'mfcc_features.npy'), mfcc_features_array)\n",
    "np.save(os.path.join(save_dir, 'labels.npy'), np.array(labels))\n",
    "\n",
    "print(f\"MFCC features and labels saved in {save_dir}\")\n",
    "\n",
    "# Create download links for the saved files\n",
    "mfcc_link = FileLink(os.path.join(save_dir, 'mfcc_features.npy'))\n",
    "labels_link = FileLink(os.path.join(save_dir, 'labels.npy'))\n",
    "\n",
    "# Display the download links in Jupyter\n",
    "mfcc_link, labels_link"
   ]
  },
  {
   "cell_type": "code",
   "execution_count": null,
   "id": "9152a700",
   "metadata": {},
   "outputs": [],
   "source": []
  }
 ],
 "metadata": {
  "kernelspec": {
   "display_name": "base",
   "language": "python",
   "name": "python3"
  },
  "language_info": {
   "codemirror_mode": {
    "name": "ipython",
    "version": 3
   },
   "file_extension": ".py",
   "mimetype": "text/x-python",
   "name": "python",
   "nbconvert_exporter": "python",
   "pygments_lexer": "ipython3",
   "version": "3.12.3"
  }
 },
 "nbformat": 4,
 "nbformat_minor": 5
}
